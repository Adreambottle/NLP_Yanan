{
 "cells": [
  {
   "cell_type": "markdown",
   "id": "bab446b8",
   "metadata": {},
   "source": [
    "# LSTM Development Process Using Keras\n",
    "\n",
    "* project : Liquidity\n",
    "* author  : Daniel Yanan ZHOU (周亚楠)\n",
    "* contact : adreambottle@outlook.com\n",
    "* file    : main.py\n",
    "* ide     : PyCharm\n",
    "* time    : 2022-06-13"
   ]
  },
  {
   "cell_type": "code",
   "execution_count": null,
   "id": "406698b3",
   "metadata": {},
   "outputs": [],
   "source": [
    "import numpy as np\n",
    "import pandas as pd\n",
    "import matplotlib.pyplot as plt\n",
    "import math\n",
    "from keras.models import Sequential\n",
    "from keras.layers import Dense\n",
    "from keras.layers import LSTM\n",
    "from sklearn.preprocessing import MinMaxScaler\n",
    "from sklearn.metrics import mean_squared_error\n",
    "from keras.utils.vis_utils import plot_model\n",
    "\n",
    "\n",
    "# Function of creating the dataset\n",
    "def moving_window_split(ser, look_back=3):\n",
    "    \"\"\"\n",
    "    Moving window splitting method [x1, x2, x3] => x4\n",
    "    splitting a series into dataX and labelY\n",
    "    :param ser:\n",
    "    :param look_back: the width of the window\n",
    "    :return:\n",
    "    \"\"\"\n",
    "    dataX, dataY = [], []\n",
    "    for i in range(len(ser) - look_back - 1):\n",
    "        a = ser[i:(i + look_back), 0]\n",
    "        dataX.append(a)\n",
    "        dataY.append(ser[i + look_back, 0])\n",
    "    return np.array(dataX), np.array(dataY)\n",
    "\n",
    "def data_split(series, look_back=3, train_pct=0.67, ):\n",
    "    \"\"\"\n",
    "    Split a series into train data and test data\n",
    "    Using the moving_window splitting method\n",
    "    :param series: the original series\n",
    "    :param look_back: the width of the moving window\n",
    "    :param train_pct: percentage of the train part\n",
    "    :return: trainX, trainY, testX, testY\n",
    "    \"\"\"\n",
    "\n",
    "    # Split the the data into train and test two parts\n",
    "    train_size = int(len(series) * train_pct)\n",
    "    train, test = series[0:train_size, :], series[train_size:len(series), :]\n",
    "\n",
    "    # Create train  and test look_back data\n",
    "    trainX, trainY = moving_window_split(train, look_back)\n",
    "    testX, testY = moving_window_split(test, look_back)\n",
    "\n",
    "    # Change the data formation\n",
    "    trainX = np.reshape(trainX, (trainX.shape[0], -1, trainX.shape[1]))  # （样本个数，1，输入的维度）\n",
    "    if train_pct != 1:\n",
    "        testX = np.reshape(testX, (testX.shape[0], -1, testX.shape[1]))\n",
    "    else:\n",
    "        testX = None\n",
    "    return trainX, trainY, testX, testY\n",
    "\n",
    "\n",
    "\n",
    "def fit_model(trainX, trainY, epoch, dropout):\n",
    "    \"\"\"\n",
    "    Fit the LSTM model\n",
    "    :param trainX:\n",
    "    :param trainY:\n",
    "    :return:\n",
    "    \"\"\"\n",
    "    # Create LSTM Model using Keras\n",
    "    model = Sequential()\n",
    "    Layer1 = LSTM(units=20,\n",
    "                  input_shape=(trainX.shape[1], trainX.shape[2]),\n",
    "                  dropout=dropout)\n",
    "    model.add(Layer1)\n",
    "    model.add(Dense(1))\n",
    "    model.compile(loss='mean_squared_error', optimizer='adam')\n",
    "    model.fit(trainX, trainY, epochs=epoch, batch_size=1, verbose=2)\n",
    "\n",
    "    return model"
   ]
  },
  {
   "cell_type": "code",
   "execution_count": null,
   "id": "335e0731",
   "metadata": {},
   "outputs": [],
   "source": [
    "# Read the data\n",
    "data_use = pd.read_csv(\"data_use.csv\")\n",
    "data = data_use[[\"V1\", \"V2\", \"V3\", \"V4\"]]\n",
    "date_index = data_use[\"Date\"]\n",
    "\n",
    "ser = np.array(data[\"V1\"]).reshape(-1, 1)\n",
    "ser = ser.astype('float32')\n",
    "\n",
    "# Scale the data\n",
    "scaler = MinMaxScaler(feature_range=(0, 1))\n",
    "ser = scaler.fit_transform(ser)\n",
    "\n",
    "\n",
    "trainX, trainY, testX, testY = data_split(ser, look_back=3, train_pct=0.67, )"
   ]
  },
  {
   "cell_type": "code",
   "execution_count": null,
   "id": "a45eac2c",
   "metadata": {},
   "outputs": [],
   "source": [
    "print(f\"This is trainX: {trainX.shape}\\n\")\n",
    "print(trainX)"
   ]
  },
  {
   "cell_type": "code",
   "execution_count": null,
   "id": "6e36c210",
   "metadata": {},
   "outputs": [],
   "source": [
    "print(f\"\\n\\nThis is trainY: {trainY.shape}\\n\")\n",
    "print(trainY)"
   ]
  },
  {
   "cell_type": "code",
   "execution_count": null,
   "id": "8bb9ca7b",
   "metadata": {},
   "outputs": [],
   "source": [
    "print(f\"\\n\\nThis is testX: {testX.shape}\\n\")\n",
    "print(testX)"
   ]
  },
  {
   "cell_type": "code",
   "execution_count": null,
   "id": "8057679f",
   "metadata": {},
   "outputs": [],
   "source": [
    "print(f\"\\n\\nThis is testY: {testY.shape}\\n\")\n",
    "print(testY)"
   ]
  },
  {
   "cell_type": "code",
   "execution_count": null,
   "id": "66b65875",
   "metadata": {},
   "outputs": [],
   "source": [
    "model = fit_model(trainX, trainY, epoch=20, dropout=0.1)"
   ]
  },
  {
   "cell_type": "code",
   "execution_count": null,
   "id": "b31049e8",
   "metadata": {},
   "outputs": [],
   "source": [
    "# Predict\n",
    "trainPredict = model.predict(trainX)\n",
    "testPredict = model.predict(testX)\n",
    "\n",
    "# inverse_transform to get the original value\n",
    "trainPredict = scaler.inverse_transform(trainPredict)\n",
    "trainY = scaler.inverse_transform([trainY])\n",
    "testPredict = scaler.inverse_transform(testPredict)\n",
    "testY = scaler.inverse_transform([testY])\n",
    "\n",
    "# Calculate the performance of the regression\n",
    "trainScore = math.sqrt(mean_squared_error(trainY[0], trainPredict[:, 0]))\n",
    "print('Train Score: %.2f RMSE' % (trainScore))\n",
    "testScore = math.sqrt(mean_squared_error(testY[0], testPredict[:, 0]))\n",
    "print('Test Score: %.2f RMSE' % (testScore))"
   ]
  },
  {
   "cell_type": "code",
   "execution_count": null,
   "id": "baf6294e",
   "metadata": {},
   "outputs": [],
   "source": []
  }
 ],
 "metadata": {
  "kernelspec": {
   "display_name": "Python 3 (ipykernel)",
   "language": "python",
   "name": "python3"
  },
  "language_info": {
   "codemirror_mode": {
    "name": "ipython",
    "version": 3
   },
   "file_extension": ".py",
   "mimetype": "text/x-python",
   "name": "python",
   "nbconvert_exporter": "python",
   "pygments_lexer": "ipython3",
   "version": "3.8.11"
  }
 },
 "nbformat": 4,
 "nbformat_minor": 5
}
